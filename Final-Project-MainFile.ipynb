{
 "cells": [
  {
   "cell_type": "markdown",
   "metadata": {},
   "source": [
    "# Introduction\n",
    "\n",
    "#### For this project, we were asked to find the best neighborhood in Pittsburgh using datasets that we could find or create about the neighborhoods themselves. "
   ]
  },
  {
   "cell_type": "markdown",
   "metadata": {},
   "source": [
    "#### Our motivation behind the datasets we chose was to find the safest neighborhood in Pittsburgh, which was what turned into our metric that would guide us in creating the three datasets.\n",
    "\n",
    "#### The three main datasets that we ended up choosing were: COVID-19 cases, crime rates in the neighborhood, and car crashes. We had some difficulties in finding data for car crashes, and the solution is mentioned when we get to that section.\n"
   ]
  },
  {
   "cell_type": "markdown",
   "metadata": {},
   "source": [
    "#### Below, we imported pandas, numpy, and matplotlib into our file, so that we could use them later on."
   ]
  },
  {
   "cell_type": "code",
   "execution_count": 1,
   "metadata": {},
   "outputs": [],
   "source": [
    "import pandas as pd\n",
    "import numpy as np\n",
    "%matplotlib inline\n",
    "import matplotlib.pyplot as plt"
   ]
  },
  {
   "cell_type": "markdown",
   "metadata": {},
   "source": [
    "# COVID-19\n",
    "\n",
    "#### Our first dataset that we will be analysing is COVID-19 cases across the city of Pittsburgh. We first read the COVID-19 data into a coviddata variable, and dropped the unneeded lines of data in the lines below.\n",
    "\n",
    "#### Next, we removed neighborhoods that had tested less that 100 people, as they could skew our results in a different direction. After completing this, we displayed the results as the highest and lowest percentages of positive cases per covid test. "
   ]
  },
  {
   "cell_type": "code",
   "execution_count": 2,
   "metadata": {},
   "outputs": [
    {
     "name": "stdout",
     "output_type": "stream",
     "text": [
      "\u001b[1m\n",
      "-----Top 10 neighborhoods for minimum covid cases-----\u001b[0m\n"
     ]
    },
    {
     "data": {
      "text/html": [
       "<div>\n",
       "<style scoped>\n",
       "    .dataframe tbody tr th:only-of-type {\n",
       "        vertical-align: middle;\n",
       "    }\n",
       "\n",
       "    .dataframe tbody tr th {\n",
       "        vertical-align: top;\n",
       "    }\n",
       "\n",
       "    .dataframe thead th {\n",
       "        text-align: right;\n",
       "    }\n",
       "</style>\n",
       "<table border=\"1\" class=\"dataframe\">\n",
       "  <thead>\n",
       "    <tr style=\"text-align: right;\">\n",
       "      <th></th>\n",
       "      <th>Neighborhood</th>\n",
       "      <th>Case Percentage</th>\n",
       "    </tr>\n",
       "  </thead>\n",
       "  <tbody>\n",
       "    <tr>\n",
       "      <th>0</th>\n",
       "      <td>Squirrel Hill North (Pittsburgh)</td>\n",
       "      <td>6.741168</td>\n",
       "    </tr>\n",
       "    <tr>\n",
       "      <th>1</th>\n",
       "      <td>Edgeworth</td>\n",
       "      <td>8.395802</td>\n",
       "    </tr>\n",
       "    <tr>\n",
       "      <th>2</th>\n",
       "      <td>Friendship (Pittsburgh)</td>\n",
       "      <td>8.809524</td>\n",
       "    </tr>\n",
       "    <tr>\n",
       "      <th>3</th>\n",
       "      <td>Point Breeze (Pittsburgh)</td>\n",
       "      <td>8.840263</td>\n",
       "    </tr>\n",
       "    <tr>\n",
       "      <th>4</th>\n",
       "      <td>Shadyside (Pittsburgh)</td>\n",
       "      <td>9.550725</td>\n",
       "    </tr>\n",
       "    <tr>\n",
       "      <th>5</th>\n",
       "      <td>Edgewood</td>\n",
       "      <td>9.705648</td>\n",
       "    </tr>\n",
       "    <tr>\n",
       "      <th>6</th>\n",
       "      <td>Squirrel Hill South (Pittsburgh)</td>\n",
       "      <td>10.123826</td>\n",
       "    </tr>\n",
       "    <tr>\n",
       "      <th>7</th>\n",
       "      <td>Swisshelm Park (Pittsburgh)</td>\n",
       "      <td>10.123967</td>\n",
       "    </tr>\n",
       "    <tr>\n",
       "      <th>8</th>\n",
       "      <td>Regent Square (Pittsburgh)</td>\n",
       "      <td>10.194175</td>\n",
       "    </tr>\n",
       "    <tr>\n",
       "      <th>9</th>\n",
       "      <td>North Shore (Pittsburgh)</td>\n",
       "      <td>10.441767</td>\n",
       "    </tr>\n",
       "  </tbody>\n",
       "</table>\n",
       "</div>"
      ],
      "text/plain": [
       "                       Neighborhood  Case Percentage\n",
       "0  Squirrel Hill North (Pittsburgh)         6.741168\n",
       "1                         Edgeworth         8.395802\n",
       "2           Friendship (Pittsburgh)         8.809524\n",
       "3         Point Breeze (Pittsburgh)         8.840263\n",
       "4            Shadyside (Pittsburgh)         9.550725\n",
       "5                          Edgewood         9.705648\n",
       "6  Squirrel Hill South (Pittsburgh)        10.123826\n",
       "7       Swisshelm Park (Pittsburgh)        10.123967\n",
       "8        Regent Square (Pittsburgh)        10.194175\n",
       "9          North Shore (Pittsburgh)        10.441767"
      ]
     },
     "execution_count": 2,
     "metadata": {},
     "output_type": "execute_result"
    }
   ],
   "source": [
    "coviddata = pd.read_csv(\"covid_19_cases_by_place.csv\", index_col=\"neighborhood_municipality\", parse_dates=True)\n",
    "coviddata.drop('Undefined', inplace = True)\n",
    "\n",
    "##remove neighborhoods that tested less than 100 people\n",
    "index = coviddata[coviddata['indv_tested'] < 100 ].index \n",
    "coviddata.drop(index, inplace=True)\n",
    "\n",
    "# create percentage column for number of cases per test\n",
    "coviddata['percentage'] = (coviddata['cases']/coviddata['indv_tested'])*100\n",
    "\n",
    "#sort data by lowest covid percentage\n",
    "coviddata_sorted = coviddata.sort_values(by='percentage')\n",
    "\n",
    "#make cleaner dataframe with rankings\n",
    "covidPercent = list(coviddata_sorted.percentage)\n",
    "covidNeighborhoods = list(coviddata_sorted.index)\n",
    "covidRanks = pd.DataFrame(columns=['Neighborhood', 'Case Percentage'])\n",
    "covidRanks['Neighborhood'] = covidNeighborhoods\n",
    "covidRanks['Case Percentage'] = covidPercent\n",
    "\n",
    "print('\\033[1m' + '\\n-----Top 10 neighborhoods for minimum covid cases-----'+ '\\033[0m')\n",
    "covidRanks.head(10)"
   ]
  },
  {
   "cell_type": "markdown",
   "metadata": {},
   "source": [
    "### Based on this dataset,\n",
    "\n",
    "#### We can conclude that the best neighborhood in Pittsburgh is Squirrel Hill North. However, this is only taking into account the number of COVID-19 cases that the area has, so it far from a final decision."
   ]
  },
  {
   "cell_type": "markdown",
   "metadata": {},
   "source": [
    "# Car Crashes\n",
    "\n",
    "#### For this dataset, we struggled to find information or a solid set of data. What eventually ended up happening was I spent about three hours counting the dots on the car crash map provided on the WPRDC website. The numbers may not be perfect, but I believe that I got a good count of the average number of crashes in a year.\n",
    "\n",
    "#### Since I made the .csv file myself with no extra columns, it was relatively simple to load it into a variable, sort the list, and print it out in order from the least crashes to the greatest."
   ]
  },
  {
   "cell_type": "code",
   "execution_count": 3,
   "metadata": {},
   "outputs": [
    {
     "data": {
      "text/html": [
       "<div>\n",
       "<style scoped>\n",
       "    .dataframe tbody tr th:only-of-type {\n",
       "        vertical-align: middle;\n",
       "    }\n",
       "\n",
       "    .dataframe tbody tr th {\n",
       "        vertical-align: top;\n",
       "    }\n",
       "\n",
       "    .dataframe thead th {\n",
       "        text-align: right;\n",
       "    }\n",
       "</style>\n",
       "<table border=\"1\" class=\"dataframe\">\n",
       "  <thead>\n",
       "    <tr style=\"text-align: right;\">\n",
       "      <th></th>\n",
       "      <th>NEIGHBORHOOD</th>\n",
       "      <th>CRASHES</th>\n",
       "    </tr>\n",
       "  </thead>\n",
       "  <tbody>\n",
       "    <tr>\n",
       "      <th>0</th>\n",
       "      <td>Brunot Island</td>\n",
       "      <td>0</td>\n",
       "    </tr>\n",
       "    <tr>\n",
       "      <th>1</th>\n",
       "      <td>Herrs Island</td>\n",
       "      <td>2</td>\n",
       "    </tr>\n",
       "    <tr>\n",
       "      <th>2</th>\n",
       "      <td>Arlington Heights</td>\n",
       "      <td>12</td>\n",
       "    </tr>\n",
       "    <tr>\n",
       "      <th>3</th>\n",
       "      <td>Esplen</td>\n",
       "      <td>13</td>\n",
       "    </tr>\n",
       "    <tr>\n",
       "      <th>4</th>\n",
       "      <td>Sheraden</td>\n",
       "      <td>14</td>\n",
       "    </tr>\n",
       "    <tr>\n",
       "      <th>5</th>\n",
       "      <td>Friendship</td>\n",
       "      <td>15</td>\n",
       "    </tr>\n",
       "    <tr>\n",
       "      <th>6</th>\n",
       "      <td>Fairywood</td>\n",
       "      <td>17</td>\n",
       "    </tr>\n",
       "    <tr>\n",
       "      <th>7</th>\n",
       "      <td>Bedford Dwellings</td>\n",
       "      <td>17</td>\n",
       "    </tr>\n",
       "    <tr>\n",
       "      <th>8</th>\n",
       "      <td>Mt Oliver</td>\n",
       "      <td>21</td>\n",
       "    </tr>\n",
       "    <tr>\n",
       "      <th>9</th>\n",
       "      <td>Middle Hill</td>\n",
       "      <td>24</td>\n",
       "    </tr>\n",
       "  </tbody>\n",
       "</table>\n",
       "</div>"
      ],
      "text/plain": [
       "        NEIGHBORHOOD  CRASHES\n",
       "0      Brunot Island        0\n",
       "1       Herrs Island        2\n",
       "2  Arlington Heights       12\n",
       "3             Esplen       13\n",
       "4           Sheraden       14\n",
       "5         Friendship       15\n",
       "6          Fairywood       17\n",
       "7  Bedford Dwellings       17\n",
       "8          Mt Oliver       21\n",
       "9        Middle Hill       24"
      ]
     },
     "execution_count": 3,
     "metadata": {},
     "output_type": "execute_result"
    }
   ],
   "source": [
    "crashdata = pd.read_csv(\"Crash_Data.csv\", parse_dates=True)\n",
    "crashdata_sorted = crashdata.sort_values(by='CRASHES', ignore_index=True,)\n",
    "crashdata_sorted.head(10)"
   ]
  },
  {
   "cell_type": "markdown",
   "metadata": {},
   "source": [
    "### Based on this dataset, \n",
    "#### We can conclude that the the best neighborhood as far as car crashes go is \"Brunot Island\", but since it and Herrs Island are not technically Neighborhoods, we will omit them, and go with the third best, which is \"Arlington Heights\""
   ]
  },
  {
   "cell_type": "markdown",
   "metadata": {},
   "source": [
    "## Crime Data\n",
    "\n",
    "#### For this dataset, we were looking at all of the crime data that did NOT involve car crashes, since this was looked at previously. \n",
    "\n",
    "#### First, we read in the .csv file to the variable crimedata. \n",
    "\n",
    "#### Next, we set crimedata to ignore all occurances of a crime that did not have a listed neighborhood, added a column for the number of occurances in each neighborhood, and removed all of the duplicates that appeared.\n",
    "\n",
    "#### Finally, after adding a \"reports\" column and sorting, we printed out the dataset up to the 10th best Neighborhood in this category."
   ]
  },
  {
   "cell_type": "code",
   "execution_count": 4,
   "metadata": {},
   "outputs": [
    {
     "name": "stdout",
     "output_type": "stream",
     "text": [
      "\u001b[1m-----Top 10 Neighborhoods with Lowest Reported Non-Traffic Crimes\u001b[0m\n"
     ]
    },
    {
     "data": {
      "text/html": [
       "<div>\n",
       "<style scoped>\n",
       "    .dataframe tbody tr th:only-of-type {\n",
       "        vertical-align: middle;\n",
       "    }\n",
       "\n",
       "    .dataframe tbody tr th {\n",
       "        vertical-align: top;\n",
       "    }\n",
       "\n",
       "    .dataframe thead th {\n",
       "        text-align: right;\n",
       "    }\n",
       "</style>\n",
       "<table border=\"1\" class=\"dataframe\">\n",
       "  <thead>\n",
       "    <tr style=\"text-align: right;\">\n",
       "      <th></th>\n",
       "      <th>neighborhood</th>\n",
       "      <th>reports</th>\n",
       "    </tr>\n",
       "  </thead>\n",
       "  <tbody>\n",
       "    <tr>\n",
       "      <th>0</th>\n",
       "      <td>Chartiers City</td>\n",
       "      <td>1</td>\n",
       "    </tr>\n",
       "    <tr>\n",
       "      <th>1</th>\n",
       "      <td>Mt. Oliver Boro</td>\n",
       "      <td>1</td>\n",
       "    </tr>\n",
       "    <tr>\n",
       "      <th>2</th>\n",
       "      <td>Ridgemont</td>\n",
       "      <td>1</td>\n",
       "    </tr>\n",
       "    <tr>\n",
       "      <th>3</th>\n",
       "      <td>Outside State</td>\n",
       "      <td>2</td>\n",
       "    </tr>\n",
       "    <tr>\n",
       "      <th>4</th>\n",
       "      <td>St. Clair</td>\n",
       "      <td>3</td>\n",
       "    </tr>\n",
       "    <tr>\n",
       "      <th>5</th>\n",
       "      <td>Swisshelm Park</td>\n",
       "      <td>4</td>\n",
       "    </tr>\n",
       "    <tr>\n",
       "      <th>6</th>\n",
       "      <td>Mt. Oliver Neighborhood</td>\n",
       "      <td>4</td>\n",
       "    </tr>\n",
       "    <tr>\n",
       "      <th>7</th>\n",
       "      <td>Oakwood</td>\n",
       "      <td>5</td>\n",
       "    </tr>\n",
       "    <tr>\n",
       "      <th>8</th>\n",
       "      <td>New Homestead</td>\n",
       "      <td>5</td>\n",
       "    </tr>\n",
       "    <tr>\n",
       "      <th>9</th>\n",
       "      <td>Summer Hill</td>\n",
       "      <td>5</td>\n",
       "    </tr>\n",
       "  </tbody>\n",
       "</table>\n",
       "</div>"
      ],
      "text/plain": [
       "              neighborhood  reports\n",
       "0           Chartiers City        1\n",
       "1          Mt. Oliver Boro        1\n",
       "2                Ridgemont        1\n",
       "3            Outside State        2\n",
       "4                St. Clair        3\n",
       "5           Swisshelm Park        4\n",
       "6  Mt. Oliver Neighborhood        4\n",
       "7                  Oakwood        5\n",
       "8            New Homestead        5\n",
       "9              Summer Hill        5"
      ]
     },
     "execution_count": 4,
     "metadata": {},
     "output_type": "execute_result"
    }
   ],
   "source": [
    "crimedata = pd.read_csv(\"non_traffic_citations.csv\", parse_dates=True)\n",
    "\n",
    "#ignore occurences with no listed neighborhood\n",
    "crimedata = crimedata[crimedata[\"NEIGHBORHOOD\"].str.contains('Unable To Retrieve Address')==False]\n",
    "\n",
    "# Add column of occurences of each neighborhood\n",
    "crimedata['counts'] = crimedata['NEIGHBORHOOD'].map(crimedata['NEIGHBORHOOD'].value_counts())\n",
    "\n",
    "# remove all the duplictes so each neighborhod is listed once\n",
    "crimedata = crimedata[~(crimedata.duplicated(['NEIGHBORHOOD']))].reset_index(drop=True)\n",
    "\n",
    "# sort data by number of reported crimes\n",
    "crimedata_sorted = crimedata.sort_values(by='counts', ignore_index=True,)\n",
    "\n",
    "#cleaner dataframe\n",
    "crimeNeighborhood = list(crimedata_sorted.NEIGHBORHOOD)\n",
    "crimeReports = list(crimedata_sorted.counts)\n",
    "crimeRanks = pd.DataFrame(columns=[ 'neighborhood', 'reports'])\n",
    "crimeRanks['neighborhood'] = crimeNeighborhood\n",
    "crimeRanks['reports'] = crimeReports\n",
    "\n",
    "print('\\033[1m' + '-----Top 10 Neighborhoods with Lowest Reported Non-Traffic Crimes' + '\\033[0m')\n",
    "crimeRanks.head(10)"
   ]
  },
  {
   "cell_type": "markdown",
   "metadata": {},
   "source": [
    "### Based on this dataset,\n",
    "\n",
    "#### We can conclude that \"Chartiers City\", \"Mt. Oliver\", or \"Ridgemont\" are the best neighborhoods to live in if you want to avoid non-vehicular crime."
   ]
  },
  {
   "cell_type": "markdown",
   "metadata": {},
   "source": [
    "# Averages\n",
    "\n",
    "#### In this section, we take the average of the best options for each of the three datasets in order to see which is the best across all three. The neighborhoods are loaded into a bestoptions variable, and the averages are then calculated based on where each neighborhood appears in the lists. Friendship recieved a -3 bonus on its score because it appeared in the top 20 of all three categories. \n",
    "\n",
    "#### We then sort the list and print out the neighborhoods that rank top 20 in at least two categories."
   ]
  },
  {
   "cell_type": "code",
   "execution_count": 5,
   "metadata": {},
   "outputs": [
    {
     "name": "stdout",
     "output_type": "stream",
     "text": [
      "\u001b[1mNeighborhoods which rank in the top 20 in at least two categories:\u001b[0m\n"
     ]
    },
    {
     "data": {
      "text/html": [
       "<div>\n",
       "<style scoped>\n",
       "    .dataframe tbody tr th:only-of-type {\n",
       "        vertical-align: middle;\n",
       "    }\n",
       "\n",
       "    .dataframe tbody tr th {\n",
       "        vertical-align: top;\n",
       "    }\n",
       "\n",
       "    .dataframe thead th {\n",
       "        text-align: right;\n",
       "    }\n",
       "</style>\n",
       "<table border=\"1\" class=\"dataframe\">\n",
       "  <thead>\n",
       "    <tr style=\"text-align: right;\">\n",
       "      <th></th>\n",
       "      <th>Neighborhood</th>\n",
       "      <th>Average Rank</th>\n",
       "    </tr>\n",
       "  </thead>\n",
       "  <tbody>\n",
       "    <tr>\n",
       "      <th>0</th>\n",
       "      <td>Mt. Oliver</td>\n",
       "      <td>5.500000</td>\n",
       "    </tr>\n",
       "    <tr>\n",
       "      <th>1</th>\n",
       "      <td>Friendship</td>\n",
       "      <td>6.333333</td>\n",
       "    </tr>\n",
       "    <tr>\n",
       "      <th>2</th>\n",
       "      <td>Swisshelm Park</td>\n",
       "      <td>7.000000</td>\n",
       "    </tr>\n",
       "    <tr>\n",
       "      <th>3</th>\n",
       "      <td>Arlington Heights</td>\n",
       "      <td>7.500000</td>\n",
       "    </tr>\n",
       "    <tr>\n",
       "      <th>4</th>\n",
       "      <td>Regent Square</td>\n",
       "      <td>11.500000</td>\n",
       "    </tr>\n",
       "    <tr>\n",
       "      <th>5</th>\n",
       "      <td>East Carnegie</td>\n",
       "      <td>14.500000</td>\n",
       "    </tr>\n",
       "  </tbody>\n",
       "</table>\n",
       "</div>"
      ],
      "text/plain": [
       "        Neighborhood  Average Rank\n",
       "0         Mt. Oliver      5.500000\n",
       "1         Friendship      6.333333\n",
       "2     Swisshelm Park      7.000000\n",
       "3  Arlington Heights      7.500000\n",
       "4      Regent Square     11.500000\n",
       "5      East Carnegie     14.500000"
      ]
     },
     "execution_count": 5,
     "metadata": {},
     "output_type": "execute_result"
    }
   ],
   "source": [
    "# list of all neighborhoods that appear in the top 20 of at least two categories\n",
    "bestoptions = ['Friendship', 'Swisshelm Park', 'Regent Square', 'Arlington Heights', 'Mt. Oliver', 'East Carnegie']\n",
    "#Average rank calculated by average of each neighborhoods top 20 rankings\n",
    "friendship_avg = ((19+6+3)/3)-3 #Friendship recieves a minus three bonus for appearing in the top 20 of all three categories\n",
    "swisshelm_avg = (8+6)/2\n",
    "regent_avg = (9+14)/2\n",
    "arlington_avg = (3+12)/2\n",
    "mtoliver_avg = (2+9)/2\n",
    "ecarnegie_avg = (18+11)/2\n",
    "avglist = [friendship_avg, swisshelm_avg, regent_avg, arlington_avg, mtoliver_avg, ecarnegie_avg]\n",
    "\n",
    "avgRanks =  pd.DataFrame(columns=['Neighborhood', 'Average Rank'])\n",
    "avgRanks['Neighborhood'] = bestoptions\n",
    "avgRanks['Average Rank'] = avglist\n",
    "\n",
    "avgRanks_sorted = avgRanks.sort_values(by='Average Rank', ignore_index=True,)\n",
    "\n",
    "print('\\033[1m' + 'Neighborhoods which rank in the top 20 in at least two categories:' + '\\033[0m')\n",
    "avgRanks_sorted.head(10)"
   ]
  },
  {
   "cell_type": "markdown",
   "metadata": {},
   "source": [
    "# Conclusion\n",
    "\n",
    "#### As a review, here are the three best neighborhoods from our datasets,\n",
    "\n",
    "#### For staying Covid free: Squirrel Hill North\n",
    "#### For avoiding car crashes: Arlington Heights\n",
    "#### For avoiding crime: Chartiers City, Mt. Oliver, or Ridgemont\n",
    "\n",
    "\n",
    "\n",
    "\n",
    "#### Based on the data above, in our opinon the best neighborhood in Pittsburgh is \"Mt. Oliver\". Two of the datasets that we had strongly reflected this idea, and while it isn't in the top 20 for COVID-19 cases, we feel that this can be looked over in favor of how high it has placed in the other two categ"
   ]
  },
  {
   "cell_type": "markdown",
   "metadata": {},
   "source": [
    "# Sources"
   ]
  },
  {
   "cell_type": "markdown",
   "metadata": {},
   "source": [
    "https://data.wprdc.org/dataset/allegheny-county-covid-19-tests-cases-and-deaths\n",
    "\n",
    "https://data.wprdc.org/dataset/allegheny-county-crash-data\n",
    "\n",
    "https://data.wprdc.org/dataset/non-traffic-citations\n",
    "\n",
    "https://data.wprdc.org/dataset/fire-incidents-in-city-of-pittsburgh"
   ]
  }
 ],
 "metadata": {
  "kernelspec": {
   "display_name": "Python 3",
   "language": "python",
   "name": "python3"
  },
  "language_info": {
   "codemirror_mode": {
    "name": "ipython",
    "version": 3
   },
   "file_extension": ".py",
   "mimetype": "text/x-python",
   "name": "python",
   "nbconvert_exporter": "python",
   "pygments_lexer": "ipython3",
   "version": "3.8.5"
  }
 },
 "nbformat": 4,
 "nbformat_minor": 4
}
