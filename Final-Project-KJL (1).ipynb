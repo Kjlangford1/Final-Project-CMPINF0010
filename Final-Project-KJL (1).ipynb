{
 "cells": [
  {
   "cell_type": "markdown",
   "metadata": {},
   "source": [
    "Fairywood -\n",
    "Windgap -\n",
    "Sheraden -\n",
    "Explen -\n",
    "Crafton Heights -\n",
    "Elliot -\n",
    "Greentree -\n",
    "East Carnegie -\n",
    "West End -\n",
    "Mount Washington -\n",
    "Beechview -\n",
    "Beltzhoover -\n",
    "South Shore -\n",
    "Allentown -\n",
    "Bon Air -\n",
    "Brookline -\n",
    "Southside Flats -\n",
    "Southside Slopes -\n",
    "Knoxville -\n",
    "Carrick -\n",
    "Overbrook -\n",
    "Mt Oliver -\n",
    "Arlington -\n",
    "Hays -\n",
    "New Homestead -\n",
    "Lincoln Place -\n",
    "Brighton Heights -\n",
    "Observatory Hill -\n",
    "Summer Hill -\n",
    "Marshall-Shadeland -\n",
    "Perry Hilltop -\n",
    "Spring Hill -\n",
    "Spring Garden -\n",
    "Fineview -\n",
    "Mex War Sts -\n",
    "California - Kirkbride -\n",
    "Manchester -\n",
    "Chateau -\n",
    "Allegheny Center -\n",
    "Allegheny East -\n",
    "Allegheny West -\n",
    "Troy Hill -\n",
    "North Shore -\n",
    "Northview Heights -\n",
    "Herrs Island -\n",
    "Central Business District -\n",
    "Bluff -\n",
    "Crawford-Roberts -\n",
    "Strip District -\n",
    "Bedford Dwellings -\n",
    "Middle Hill -\n",
    "Terrace Village -\n",
    "West Oakland -\n",
    "South Oakland -\n",
    "Central Oakland -\n",
    "Polish Hill -\n",
    "Upper Hill -\n",
    "North Oakland -\n",
    "Greenfield -\n",
    "Hazelwood -\n",
    "Glen-Hazel -\n",
    "Squirrel Hill South -\n",
    "Squirrel Hill North -\n",
    "Point Breeze -\n",
    "Swisshelm Park -\n",
    "Regent Square -\n",
    "Point Breeze North -\n",
    "Homewood West -\n",
    "Homewood North -\n",
    "Homewood South  -\n",
    "East Hills -\n",
    "Larimer -\n",
    "East Liberty -\n",
    "Friendship -\n",
    "Garfield -\n",
    "Central Lawrenceville -\n",
    "Lower Lawrenceville -\n",
    "Upper Lawrenceville -\n",
    "Stanton Heights -\n",
    "Morningside -\n",
    "Highland Park -\n",
    "Lincoln-Lemington-Belmar -\n",
    "Hays -\n",
    "New Homestead -\n",
    "Lincoln Place -\n",
    "St Clair -\n",
    "Mt. Oliver -\n",
    "Arlington Heights -\n",
    "Arlington -\n"
   ]
  },
  {
   "cell_type": "code",
   "execution_count": 8,
   "metadata": {},
   "outputs": [
    {
     "ename": "ModuleNotFoundError",
     "evalue": "No module named 'ckanapi'",
     "output_type": "error",
     "traceback": [
      "\u001b[1;31m---------------------------------------------------------------------------\u001b[0m",
      "\u001b[1;31mModuleNotFoundError\u001b[0m                       Traceback (most recent call last)",
      "\u001b[1;32m<ipython-input-8-c0ee9d88b9ce>\u001b[0m in \u001b[0;36m<module>\u001b[1;34m\u001b[0m\n\u001b[1;32m----> 1\u001b[1;33m \u001b[1;32mimport\u001b[0m \u001b[0mckanapi\u001b[0m\u001b[1;33m\u001b[0m\u001b[1;33m\u001b[0m\u001b[0m\n\u001b[0m\u001b[0;32m      2\u001b[0m \u001b[1;32mfrom\u001b[0m \u001b[0mpprint\u001b[0m \u001b[1;32mimport\u001b[0m \u001b[0mpprint\u001b[0m\u001b[1;33m\u001b[0m\u001b[1;33m\u001b[0m\u001b[0m\n\u001b[0;32m      3\u001b[0m \u001b[1;33m\u001b[0m\u001b[0m\n\u001b[0;32m      4\u001b[0m \u001b[0msite\u001b[0m \u001b[1;33m=\u001b[0m \u001b[1;34m\"https://data.wprdc.org\"\u001b[0m\u001b[1;33m\u001b[0m\u001b[1;33m\u001b[0m\u001b[0m\n",
      "\u001b[1;31mModuleNotFoundError\u001b[0m: No module named 'ckanapi'"
     ]
    }
   ],
   "source": [
    "import ckanapi\n",
    "from pprint import pprint\n",
    "\n",
    "site = \"https://data.wprdc.org\"\n"
   ]
  },
  {
   "cell_type": "code",
   "execution_count": 2,
   "metadata": {},
   "outputs": [],
   "source": [
    "def get_resource_data(site,resource_id,count=50):\n",
    "    # Use the datastore_search API endpoint to get <count> records from\n",
    "    # a CKAN resource.\n",
    "    ckan = ckanapi.RemoteCKAN(site)\n",
    "    response = ckan.action.datastore_search(id=resource_id, limit=count)\n",
    "\n",
    "    # A typical response is a dictionary like this\n",
    "    #{u'_links': {u'next': u'/api/action/datastore_search?offset=3',\n",
    "    #             u'start': u'/api/action/datastore_search'},\n",
    "    # u'fields': [{u'id': u'_id', u'type': u'int4'},\n",
    "    #             {u'id': u'pin', u'type': u'text'},\n",
    "    #             {u'id': u'number', u'type': u'int4'},\n",
    "    #             {u'id': u'total_amount', u'type': u'float8'}],\n",
    "    # u'limit': 3,\n",
    "    # u'records': [{u'_id': 1,\n",
    "    #               u'number': 11,\n",
    "    #               u'pin': u'0001B00010000000',\n",
    "    #               u'total_amount': 13585.47},\n",
    "    #              {u'_id': 2,\n",
    "    #               u'number': 2,\n",
    "    #               u'pin': u'0001C00058000000',\n",
    "    #               u'total_amount': 7827.64},\n",
    "    #              {u'_id': 3,\n",
    "    #               u'number': 1,\n",
    "    #               u'pin': u'0001C01661006700',\n",
    "    #               u'total_amount': 3233.59}],\n",
    "    # u'resource_id': u'd1e80180-5b2e-4dab-8ec3-be621628649e',\n",
    "    # u'total': 88232}\n",
    "    data = response['records']\n",
    "    return data"
   ]
  },
  {
   "cell_type": "code",
   "execution_count": 10,
   "metadata": {},
   "outputs": [
    {
     "ename": "NameError",
     "evalue": "name 'ckanapi' is not defined",
     "output_type": "error",
     "traceback": [
      "\u001b[1;31m---------------------------------------------------------------------------\u001b[0m",
      "\u001b[1;31mNameError\u001b[0m                                 Traceback (most recent call last)",
      "\u001b[1;32m<ipython-input-10-a7b500ed14d8>\u001b[0m in \u001b[0;36m<module>\u001b[1;34m\u001b[0m\n\u001b[1;32m----> 1\u001b[1;33m \u001b[0mcrash_data_2017\u001b[0m \u001b[1;33m=\u001b[0m \u001b[0mget_resource_data\u001b[0m\u001b[1;33m(\u001b[0m\u001b[0msite\u001b[0m\u001b[1;33m,\u001b[0m\u001b[0mresource_id\u001b[0m\u001b[1;33m=\u001b[0m\u001b[1;34m\"bf8b3c7e-8d60-40df-9134-21606a451c1a\"\u001b[0m\u001b[1;33m,\u001b[0m\u001b[0mcount\u001b[0m\u001b[1;33m=\u001b[0m\u001b[1;36m999999999\u001b[0m\u001b[1;33m)\u001b[0m\u001b[1;33m\u001b[0m\u001b[1;33m\u001b[0m\u001b[0m\n\u001b[0m",
      "\u001b[1;32m<ipython-input-2-dcb1c59fd947>\u001b[0m in \u001b[0;36mget_resource_data\u001b[1;34m(site, resource_id, count)\u001b[0m\n\u001b[0;32m      2\u001b[0m     \u001b[1;31m# Use the datastore_search API endpoint to get <count> records from\u001b[0m\u001b[1;33m\u001b[0m\u001b[1;33m\u001b[0m\u001b[1;33m\u001b[0m\u001b[0m\n\u001b[0;32m      3\u001b[0m     \u001b[1;31m# a CKAN resource.\u001b[0m\u001b[1;33m\u001b[0m\u001b[1;33m\u001b[0m\u001b[1;33m\u001b[0m\u001b[0m\n\u001b[1;32m----> 4\u001b[1;33m     \u001b[0mckan\u001b[0m \u001b[1;33m=\u001b[0m \u001b[0mckanapi\u001b[0m\u001b[1;33m.\u001b[0m\u001b[0mRemoteCKAN\u001b[0m\u001b[1;33m(\u001b[0m\u001b[0msite\u001b[0m\u001b[1;33m)\u001b[0m\u001b[1;33m\u001b[0m\u001b[1;33m\u001b[0m\u001b[0m\n\u001b[0m\u001b[0;32m      5\u001b[0m     \u001b[0mresponse\u001b[0m \u001b[1;33m=\u001b[0m \u001b[0mckan\u001b[0m\u001b[1;33m.\u001b[0m\u001b[0maction\u001b[0m\u001b[1;33m.\u001b[0m\u001b[0mdatastore_search\u001b[0m\u001b[1;33m(\u001b[0m\u001b[0mid\u001b[0m\u001b[1;33m=\u001b[0m\u001b[0mresource_id\u001b[0m\u001b[1;33m,\u001b[0m \u001b[0mlimit\u001b[0m\u001b[1;33m=\u001b[0m\u001b[0mcount\u001b[0m\u001b[1;33m)\u001b[0m\u001b[1;33m\u001b[0m\u001b[1;33m\u001b[0m\u001b[0m\n\u001b[0;32m      6\u001b[0m \u001b[1;33m\u001b[0m\u001b[0m\n",
      "\u001b[1;31mNameError\u001b[0m: name 'ckanapi' is not defined"
     ]
    }
   ],
   "source": [
    "crash_data_2017 = get_resource_data(site,resource_id=\"bf8b3c7e-8d60-40df-9134-21606a451c1a\",count=999999999) "
   ]
  },
  {
   "cell_type": "code",
   "execution_count": 9,
   "metadata": {},
   "outputs": [
    {
     "ename": "NameError",
     "evalue": "name 'crash_data_2017' is not defined",
     "output_type": "error",
     "traceback": [
      "\u001b[1;31m---------------------------------------------------------------------------\u001b[0m",
      "\u001b[1;31mNameError\u001b[0m                                 Traceback (most recent call last)",
      "\u001b[1;32m<ipython-input-9-5b52cc90eda6>\u001b[0m in \u001b[0;36m<module>\u001b[1;34m\u001b[0m\n\u001b[1;32m----> 1\u001b[1;33m \u001b[0mlen\u001b[0m\u001b[1;33m(\u001b[0m\u001b[0mcrash_data_2017\u001b[0m\u001b[1;33m)\u001b[0m\u001b[1;33m\u001b[0m\u001b[1;33m\u001b[0m\u001b[0m\n\u001b[0m",
      "\u001b[1;31mNameError\u001b[0m: name 'crash_data_2017' is not defined"
     ]
    }
   ],
   "source": [
    "len(crash_data_2017)"
   ]
  },
  {
   "cell_type": "code",
   "execution_count": null,
   "metadata": {},
   "outputs": [],
   "source": []
  }
 ],
 "metadata": {
  "kernelspec": {
   "display_name": "Python 3",
   "language": "python",
   "name": "python3"
  },
  "language_info": {
   "codemirror_mode": {
    "name": "ipython",
    "version": 3
   },
   "file_extension": ".py",
   "mimetype": "text/x-python",
   "name": "python",
   "nbconvert_exporter": "python",
   "pygments_lexer": "ipython3",
   "version": "3.8.5"
  }
 },
 "nbformat": 4,
 "nbformat_minor": 4
}
